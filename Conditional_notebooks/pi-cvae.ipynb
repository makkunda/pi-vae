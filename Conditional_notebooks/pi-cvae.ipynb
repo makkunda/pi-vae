{
 "cells": [
  {
   "cell_type": "code",
   "execution_count": 3,
   "id": "29f5cef5",
   "metadata": {},
   "outputs": [
    {
     "name": "stderr",
     "output_type": "stream",
     "text": [
      "/home/shug7409/.conda/envs/basic/lib/python3.11/site-packages/tqdm/auto.py:22: TqdmWarning: IProgress not found. Please update jupyter and ipywidgets. See https://ipywidgets.readthedocs.io/en/stable/user_install.html\n",
      "  from .autonotebook import tqdm as notebook_tqdm\n"
     ]
    }
   ],
   "source": [
    "%load_ext autoreload\n",
    "%autoreload 2\n",
    "\n",
    "# from 1dgp\n",
    "import os\n",
    "import sys\n",
    "import numpy as np \n",
    "import matplotlib.pyplot as plt \n",
    "import matplotlib as mpl\n",
    "import seaborn as sns\n",
    "from torch.utils.data import Dataset, DataLoader\n",
    "import torch\n",
    "from sklearn.gaussian_process import GaussianProcessRegressor\n",
    "from sklearn.gaussian_process.kernels import RBF, Matern\n",
    "\n",
    "#from VAE,piVAE\n",
    "import torch.nn as nn\n",
    "import torch.nn.functional as F \n",
    "import torch.optim as optim\n",
    "from torch.nn.parameter import Parameter\n",
    "from tqdm import tqdm, trange\n",
    "import cmdstanpy\n",
    "import pandas as pd\n",
    "import pickle\n",
    "import math\n"
   ]
  },
  {
   "cell_type": "code",
   "execution_count": 8,
   "id": "9f0b9917",
   "metadata": {},
   "outputs": [],
   "source": [
    "class GP1D_c(Dataset):\n",
    "    def __init__(self, dataPoints=100, samples=10000, ingrid=True, x_lim = 1,\n",
    "                        seed=np.random.randint(20), kernel='rbf',ls1 = 0.1,ls2=0.9, nu=2.5):\n",
    "        self.dataPoints = dataPoints\n",
    "        self.samples = samples\n",
    "        self.ingrid = ingrid\n",
    "        self.x_lim = x_lim\n",
    "        self.seed = seed\n",
    "        self.Max_Points = 2 * dataPoints\n",
    "        self.ls1 = ls1\n",
    "        self.ls2 = ls2\n",
    "        self.nu = nu\n",
    "        self.kernel = kernel\n",
    "        np.random.seed(self.seed)\n",
    "        self.evalPoints, self.data, self.c = self.__simulatedata__()\n",
    "    \n",
    "    def __len__(self):\n",
    "        return self.samples\n",
    "    \n",
    "    def __getitem__(self, idx=0):\n",
    "        return (self.evalPoints[:,idx], self.data[:,idx]), self.c[idx]\n",
    "\n",
    "\n",
    "    def __simulatedata__(self):\n",
    "        if self.kernel=='rbf':\n",
    "            gp1 = GaussianProcessRegressor(kernel=RBF(length_scale=self.ls1))\n",
    "            gp2 = GaussianProcessRegressor(kernel=RBF(length_scale=self.ls2))\n",
    "        elif self.kernel=='matern':\n",
    "            gp1 = GaussianProcessRegressor(kernel=Matern(length_scale=self.ls1, nu=self.nu))\n",
    "            gp2 = GaussianProcessRegressor(kernel=Matern(length_scale=self.ls2, nu=self.nu))\n",
    "        else:\n",
    "            return None\n",
    "        if (self.ingrid):\n",
    "            X_1 = np.linspace(-self.x_lim, self.x_lim, self.dataPoints//2)\n",
    "            y_samples_1 = gp1.sample_y(X_1[:, np.newaxis], self.samples)\n",
    "            c1 = [0]*self.samples\n",
    "            X_2 = np.linspace(-self.x_lim, self.x_lim, self.dataPoints//2)\n",
    "            y_samples_2 = gp2.sample_y(X_2[:, np.newaxis], self.samples)\n",
    "            c2 = [1]*self.samples\n",
    "            # print(X_.shape, y_samples.shape)\n",
    "            return (np.concatenate(X_1.repeat(self.samples).reshape(X_1.shape[0],self.samples),X_2.repeat(self.samples).reshape(X_2.shape[0],self.samples)) ,\n",
    "                        np.concatenate(y_samples_1,y_samples_2),c1+c2)\n",
    "        else:\n",
    "            X_ = np.linspace(-self.x_lim, self.x_lim, self.Max_Points)\n",
    "            X_ = np.random.choice(X_, (self.dataPoints,self.samples))\n",
    "            X_.sort(axis=0)\n",
    "            y_samples = np.zeros((self.dataPoints,self.samples))\n",
    "            c = []\n",
    "            for idx in range(self.samples//2):\n",
    "                x_ = X_[:,idx]\n",
    "                y_samples[:,idx] = gp1.sample_y(x_[:, np.newaxis]).reshape(self.dataPoints,)\n",
    "                c.append(0)\n",
    "            for idx in range(self.samples//2,self.samples):\n",
    "                x_ = X_[:,idx]\n",
    "                y_samples[:,idx] = gp2.sample_y(x_[:, np.newaxis]).reshape(self.dataPoints,)\n",
    "                c.append(1)\n",
    "            # print(X_.shape, y_samples.shape)\n",
    "            return (X_, y_samples,c)"
   ]
  },
  {
   "cell_type": "code",
   "execution_count": 9,
   "id": "167a7900",
   "metadata": {},
   "outputs": [
    {
     "ename": "ValueError",
     "evalue": "not enough values to unpack (expected 3, got 2)",
     "output_type": "error",
     "traceback": [
      "\u001b[0;31m---------------------------------------------------------------------------\u001b[0m",
      "\u001b[0;31mValueError\u001b[0m                                Traceback (most recent call last)",
      "Cell \u001b[0;32mIn[9], line 14\u001b[0m\n\u001b[1;32m     11\u001b[0m     ax\u001b[38;5;241m.\u001b[39mset_title(\u001b[38;5;124m'\u001b[39m\u001b[38;5;124m10 different function realizations at fixed 100 points\u001b[39m\u001b[38;5;130;01m\\n\u001b[39;00m\u001b[38;5;124m'\u001b[39m\n\u001b[1;32m     12\u001b[0m     \u001b[38;5;124m'\u001b[39m\u001b[38;5;124msampled from a Gaussian process with RBF\u001b[39m\u001b[38;5;124m'\u001b[39m)\n\u001b[1;32m     13\u001b[0m     plt\u001b[38;5;241m.\u001b[39msavefig(\u001b[38;5;124m'\u001b[39m\u001b[38;5;124mplots/sample_prior_gp_1d_fixed.pdf\u001b[39m\u001b[38;5;124m'\u001b[39m)\n\u001b[0;32m---> 14\u001b[0m \u001b[43mvisualize_1D_gp\u001b[49m\u001b[43m(\u001b[49m\u001b[43m)\u001b[49m\n",
      "Cell \u001b[0;32mIn[9], line 6\u001b[0m, in \u001b[0;36mvisualize_1D_gp\u001b[0;34m()\u001b[0m\n\u001b[1;32m      4\u001b[0m fig \u001b[38;5;241m=\u001b[39m plt\u001b[38;5;241m.\u001b[39mfigure()\n\u001b[1;32m      5\u001b[0m ax \u001b[38;5;241m=\u001b[39m fig\u001b[38;5;241m.\u001b[39madd_subplot(\u001b[38;5;241m111\u001b[39m)\n\u001b[0;32m----> 6\u001b[0m \u001b[38;5;28;01mfor\u001b[39;00m no, dt, c \u001b[38;5;129;01min\u001b[39;00m \u001b[38;5;28menumerate\u001b[39m(dataloader):\n\u001b[1;32m      7\u001b[0m     ax\u001b[38;5;241m.\u001b[39mplot(dt[\u001b[38;5;241m0\u001b[39m]\u001b[38;5;241m.\u001b[39mreshape(\u001b[38;5;241m-\u001b[39m\u001b[38;5;241m1\u001b[39m,\u001b[38;5;241m1\u001b[39m), dt[\u001b[38;5;241m1\u001b[39m]\u001b[38;5;241m.\u001b[39mreshape(\u001b[38;5;241m-\u001b[39m\u001b[38;5;241m1\u001b[39m,\u001b[38;5;241m1\u001b[39m), marker\u001b[38;5;241m=\u001b[39m\u001b[38;5;124m'\u001b[39m\u001b[38;5;124mo\u001b[39m\u001b[38;5;124m'\u001b[39m, markersize\u001b[38;5;241m=\u001b[39m\u001b[38;5;241m3\u001b[39m)\n\u001b[1;32m      8\u001b[0m     \u001b[38;5;28;01mif\u001b[39;00m no \u001b[38;5;241m>\u001b[39m \u001b[38;5;241m9\u001b[39m: \u001b[38;5;28;01mbreak\u001b[39;00m\n",
      "\u001b[0;31mValueError\u001b[0m: not enough values to unpack (expected 3, got 2)"
     ]
    },
    {
     "data": {
      "image/png": "[encoded data removed]",
      "text/plain": [
       "<Figure size 640x480 with 1 Axes>"
      ]
     },
     "metadata": {},
     "output_type": "display_data"
    }
   ],
   "source": [
    "def visualize_1D_gp():\n",
    "    dataset =GP1D_c(dataPoints=300, samples=10000, ls1=0.1,ls2=0.5, x_lim=3)\n",
    "    dataloader = DataLoader(dataset, batch_size=1, shuffle=True)\n",
    "    fig = plt.figure()\n",
    "    ax = fig.add_subplot(111)\n",
    "    for no, dt, c in enumerate(dataloader):\n",
    "        ax.plot(dt[0].reshape(-1,1), dt[1].reshape(-1,1), marker='o', markersize=3)\n",
    "        if no > 9: break\n",
    "    ax.set_xlabel('$x$')\n",
    "    ax.set_ylabel('$y=f(x)$')\n",
    "    ax.set_title('10 different function realizations at fixed 100 points\\n'\n",
    "    'sampled from a Gaussian process with RBF')\n",
    "    plt.savefig('plots/sample_prior_gp_1d_fixed.pdf')\n",
    "visualize_1D_gp()"
   ]
  },
  {
   "cell_type": "code",
   "execution_count": 4,
   "id": "ac2b28bd",
   "metadata": {},
   "outputs": [],
   "source": [
    "class PHI(nn.Module):\n",
    "    '''\n",
    "    Implementation of feature transformation layer with RBF layer.\n",
    "    We assume here that alpha is constant for all basis.\n",
    "    Shape:\n",
    "        - Input: (N, n_evals, in_features) N is batches\n",
    "        - Output: (N, n_evals, out_dims), out_dims is a parameter\n",
    "    Parameters:\n",
    "        - in_features: number of input dimension for each eval point\n",
    "        - alpha - trainable parameter controls width. Default is 1.0\n",
    "        - n_centers - number of points to be used as centers in rbf/matern\n",
    "        layers. centers are trainable, default is 100\n",
    "        - hidden_dim1: hidden dimension for 1st layer. Default is 20\n",
    "        - hidden_dim2: hidden dimension for 2nd layer. Default is 20\n",
    "        - out_dims: output features to construct. Default is 100\n",
    "    Examples:\n",
    "        >>> a1 = PHI(256)\n",
    "        >>> x = torch.randn(1,256)\n",
    "        >>> x = a1(x)\n",
    "    '''\n",
    "    def __init__(self, in_features, alpha = 1.0, n_centers = 10, \n",
    "                    hidden_dim1 = 20, hidden_dim2 = 20, out_dims = 100):\n",
    "        '''\n",
    "        Initialization.\n",
    "        INPUT:\n",
    "            - in_features: number of input dimension for each eval point\n",
    "            - alpha: trainable parameter\n",
    "            alpha is initialized with 1.0 value by default\n",
    "            - n_centers: number of points to be used as centers in rbf/matern\n",
    "            layers. centers are trainable, default is 100\n",
    "            - hidden_dim1: hidden dimension for 1st layer. Default is 20\n",
    "            - hidden_dim2: hidden dimension for 2nd layer. Default is 20\n",
    "            - out_dims: hidden dimension for 2nd layer. Default is 100\n",
    "        '''\n",
    "        super(PHI,self).__init__()\n",
    "        self.in_features = in_features\n",
    "\n",
    "        # initialize alpha\n",
    "       # self.alpha = Parameter(torch.tensor(alpha)) # create a tensor out of alpha\n",
    "        print(\"here2\")\n",
    "        #self.alpha.requiresGrad = True # set requiresGrad to true!\n",
    "        # centers\n",
    "        self.centers = Parameter(torch.randn(n_centers, in_features)) # create a tensor out of centers\n",
    "        self.centers.requiresGrad = True # set requiresGrad to true!\n",
    "        # linear layers\n",
    "        self.linear1 = nn.Linear(n_centers, hidden_dim1)\n",
    "        self.linear2 = nn.Linear(hidden_dim1, hidden_dim2)\n",
    "        self.out = nn.Linear(hidden_dim2, out_dims)\n",
    "\n",
    "    def forward(self, x):\n",
    "        '''\n",
    "        Forward pass of the function.\n",
    "        Applies the function to the input elementwise.\n",
    "        '''\n",
    "        rbf = torch.exp(-1 * torch.cdist(x, self.centers).pow(2))\n",
    "        hidden1 = torch.tanh(self.linear1(rbf))\n",
    "        hidden2 = torch.tanh(self.linear2(hidden1))\n",
    "        out = self.out(hidden2)\n",
    "        return out"
   ]
  },
  {
   "cell_type": "code",
   "execution_count": 5,
   "id": "e3341470",
   "metadata": {},
   "outputs": [],
   "source": [
    "class CEncoder(nn.Module):\n",
    "    ''' This the encoder part of VAE\n",
    "    '''\n",
    "    def __init__(self, input_dim, hidden_dim1, hidden_dim2, z_dim):\n",
    "        super().__init__()\n",
    "        input_dim = input_dim + 1\n",
    "        self.linear1 = nn.Linear(input_dim, hidden_dim1)\n",
    "        self.linear2 = nn.Linear(hidden_dim1, hidden_dim2)\n",
    "        self.mu = nn.Linear(hidden_dim2, z_dim)\n",
    "        self.sd = nn.Linear(hidden_dim2, z_dim)\n",
    "    def forward(self, x, c):\n",
    "        x = torch.cat((x, c), dim=-1)\n",
    "        # x is of shape [batch_size, input_dim]\n",
    "        hidden1 = torch.tanh(self.linear1(x))\n",
    "        # hidden1 is of shape [batch_size, hidden_dim1]\n",
    "        hidden2 = torch.tanh(self.linear2(hidden1))\n",
    "        # hidden2 is of shape [batch_size, hidden_dim2]\n",
    "        z_mu = self.mu(hidden2)\n",
    "        # z_mu is of shape [batch_size, z_dim]\n",
    "        z_sd = self.sd(hidden2)\n",
    "        # z_sd is of shape [batch_size, z_dim]\n",
    "        return z_mu, z_sd\n",
    "\n",
    "class CDecoder(nn.Module):\n",
    "    ''' This the decoder part of VAE\n",
    "    '''\n",
    "    def __init__(self,z_dim, hidden_dim1, hidden_dim2, input_dim):\n",
    "        super().__init__()\n",
    "        z_dim = z_dim + 1\n",
    "        self.linear1 = nn.Linear(z_dim, hidden_dim1)\n",
    "        self.linear2 = nn.Linear(hidden_dim1, hidden_dim2)\n",
    "        self.out = nn.Linear(hidden_dim2, input_dim)\n",
    "    def forward(self, x, c):\n",
    "        x = torch.cat((x, c), dim=-1)\n",
    "        # x is of shape [batch_size, z_dim]\n",
    "        hidden1 = torch.tanh(self.linear1(x))\n",
    "        # hidden1 is of shape [batch_size, hidden_dim1]\n",
    "        hidden2 = torch.tanh(self.linear2(hidden1))\n",
    "        # hidden2 is of shape [batch_size, hidden_dim2]\n",
    "        pred = self.out(hidden2)\n",
    "        # pred is of shape [batch_size, input_dim]\n",
    "        return pred\n",
    "\n",
    "class CVAE(nn.Module):\n",
    "    ''' This the VAE, which takes a encoder and decoder.\n",
    "    '''\n",
    "    def __init__(self, input_dim, hidden_dim1, hidden_dim2, latent_dim):\n",
    "        super().__init__()\n",
    "        \n",
    "        self.encoder = CEncoder(input_dim, hidden_dim1, hidden_dim2, latent_dim)\n",
    "        self.decoder = CDecoder(latent_dim, hidden_dim1, hidden_dim2, input_dim)\n",
    "        \n",
    "\n",
    "    def reparameterize(self, z_mu, z_sd):\n",
    "        '''During training random sample from the learned ZDIMS-dimensional\n",
    "           normal distribution; during inference its mean.\n",
    "        '''\n",
    "        if self.training:\n",
    "            # sample from the distribution having latent parameters z_mu, z_sd\n",
    "            # reparameterize\n",
    "            std = torch.exp(z_sd / 2)\n",
    "            eps = torch.randn_like(std)\n",
    "            return (eps.mul(std).add_(z_mu))\n",
    "        else:\n",
    "            return z_mu\n",
    "\n",
    "\n",
    "    def forward(self, x, c):\n",
    "        # encode\n",
    "        z_mu, z_sd = self.encoder(x,c)\n",
    "        # reparameterize\n",
    "        x_sample = self.reparameterize(z_mu, z_sd)\n",
    "        # decode\n",
    "        generated_x = self.decoder(x_sample,c)\n",
    "        return generated_x, z_mu,z_sd\n",
    "\n",
    "def calculate_loss_VAE(x, reconstructed_x, mean, log_sd):\n",
    "    # reconstruction loss\n",
    "    RCL = F.mse_loss(reconstructed_x, x, reduction='sum')\n",
    "    # kl divergence loss\n",
    "    KLD = -0.5 * torch.sum(1 + log_sd - mean.pow(2) - log_sd.exp())\n",
    "    return RCL + KLD"
   ]
  },
  {
   "cell_type": "code",
   "execution_count": 6,
   "id": "3334ddb6",
   "metadata": {},
   "outputs": [],
   "source": [
    "class PICVAE(nn.Module):\n",
    "    '''\n",
    "    Implementation of PIVAE with feature transformation layer (RBF layer).\n",
    "    Shape:\n",
    "        - Input: (N, n_evals, in_features) N is batches\n",
    "        - Output: (N, n_evals, 1), currently we have 1D output only\n",
    "    Parameters:\n",
    "        - in_features: number of input dimension for each eval point\n",
    "        - alpha - trainable parameter controls width. Default is 1.0\n",
    "        - n_centers - number of points to be used as centers in rbf/matern\n",
    "        layers. centers are trainable, default is 100\n",
    "        - dim1: hidden dimension for 1st transformation layer. Default is 20\n",
    "        - dim2: hidden dimension for 2nd layer. Default is 20\n",
    "        - out_dims: output features to construct (size of beta and VAE). \n",
    "        Default is 100\n",
    "        - hidden_dim1 - hidden dimensions for 1st layer VAE. Default is 128\n",
    "        - hidden_dim2 - hidden dimensions for 1st layer VAE. Default is 64\n",
    "        - z_dim - latent dimension for VAE. Default is 20\n",
    "        - batch_size - batch_size for training. For now set same as n_samples\n",
    "    Examples:\n",
    "        >>> a1 = PHI(256)\n",
    "        >>> x = torch.randn(1,256)\n",
    "        >>> x = a1(x)\n",
    "    '''\n",
    "    def __init__(self, in_features, alpha = 1.0, n_centers = 10, dim1 = 20, \n",
    "                    dim2 = 20, out_dims = 100, hidden_dim1 = 128, \n",
    "                    hidden_dim2 = 64, z_dim = 20, batch_size = 10000):\n",
    "        super(PIVAE, self).__init__()\n",
    "        self.out_dims = out_dims\n",
    "        self.batch_size = batch_size\n",
    "        self.phi = PHI(in_features, alpha=alpha, n_centers=n_centers, \n",
    "                        hidden_dim1=dim1, hidden_dim2=dim2, out_dims=out_dims)\n",
    "        self.betas = nn.ModuleList()\n",
    "        for _ in range(self.batch_size):\n",
    "            self.betas.append(nn.Linear(out_dims, 1))\n",
    "        self.vae = CVAE(input_dim=out_dims, hidden_dim1=hidden_dim1, \n",
    "                        hidden_dim2=hidden_dim2, latent_dim=z_dim)\n",
    "    \n",
    "    def forward(self, x, c):\n",
    "        '''\n",
    "        Forward pass of the function.\n",
    "        Applies the function to the input elementwise.\n",
    "        '''        \n",
    "        phi_x = self.phi(x)\n",
    "        y1 = torch.stack([self.betas[i](phi_x[i]) for i in range(self.batch_size)\n",
    "                            ]).flatten(1)\n",
    "        beta = torch.stack([self.betas[i].weight for i in range(self.batch_size)\n",
    "                            ]).flatten(0,1)\n",
    "        beta_vae = self.vae(beta,c)\n",
    "        y2 = torch.stack([phi_x[i]@beta_vae[0][i] + self.betas[i].bias for i in \n",
    "                            range(self.batch_size)])\n",
    "        return y1, y2, beta_vae[1], beta_vae[2]\n",
    "    \n",
    "def calculate_loss(target, reconstructed1, reconstructed2, mean, log_var):\n",
    "    # reconstruction loss\n",
    "    RCL = F.mse_loss(reconstructed1, target, reduction='sum') + \\\n",
    "                F.mse_loss(reconstructed2, target, reduction='sum')\n",
    "    # kl divergence loss\n",
    "    KLD = -0.5 * torch.sum(1 + log_var - mean.pow(2) - log_var.exp())\n",
    "    return RCL + KLD"
   ]
  },
  {
   "cell_type": "code",
   "execution_count": 11,
   "id": "24cec67f",
   "metadata": {},
   "outputs": [],
   "source": [
    "def train_piVAE():\n",
    "    # Just showing how to use piVAE to learn priors\n",
    "\n",
    "    ###### intializing data and model parameters\n",
    "    n_samples = 1000\n",
    "    in_features = 1\n",
    "    n_evals = 1000\n",
    "    n_centers = math.ceil(n_evals/2)\n",
    "    alpha = 1.0\n",
    "    dim1 = 20\n",
    "    dim2 = 20\n",
    "    hidden_dims1 = 16\n",
    "    hidden_dims2 = 8\n",
    "    z_dim = 5\n",
    "    out_dims = 10\n",
    "    batch_size = 5\n",
    "\n",
    "    ###### creating data, model and optimizer\n",
    "    train_ds = GP1D_c(dataPoints=n_evals, samples=n_samples, ls=0.1)\n",
    "    train_dl = DataLoader(train_ds, batch_size=batch_size, shuffle=True)\n",
    "    model = PIVAE(in_features=in_features, alpha=alpha, n_centers=n_centers,\n",
    "                     dim1=dim1, dim2=dim2, out_dims=out_dims, \n",
    "                     hidden_dim1=hidden_dims1, hidden_dim2=hidden_dims2, \n",
    "                     z_dim=z_dim, batch_size=batch_size)\n",
    "    optimizer = optim.Adam(model.parameters(), lr=1e-3)\n",
    "    device = 'cuda' if torch.cuda.is_available() else 'cpu'\n",
    "    # device = 'cpu'\n",
    "    model = model.to(device)\n",
    "\n",
    "    print(device)\n",
    "    ###### running for 10 epochs\n",
    "    t = trange(10)\n",
    "    for e in t:\n",
    "        # set training mode\n",
    "        model.train()\n",
    "        total_loss = 0\n",
    "        for i,x,c in enumerate(train_dl):\n",
    "            target = x[1].float().to(device)\n",
    "            # target = target.view(target.shape[0], target.shape[1], 1)\n",
    "            x = x[0].float().to(device)\n",
    "            x = x.view(x.shape[0], x.shape[1], 1)\n",
    "            optimizer.zero_grad()   # zero the gradient buffers\n",
    "            y1, y2, z_mu, z_sd = model(x,c) # fwd pass\n",
    "            loss = calculate_loss(target, y1, y2, z_mu, z_sd) # loss cal\n",
    "            loss.backward() # bck pass\n",
    "            total_loss += loss.item() \n",
    "            optimizer.step() # update the weights\n",
    "        t.set_description(f'Loss is {total_loss/(n_evals*n_samples):.3}')\n",
    "    \n",
    "    return model"
   ]
  },
  {
   "cell_type": "code",
   "execution_count": 12,
   "id": "263360af",
   "metadata": {},
   "outputs": [
    {
     "name": "stdout",
     "output_type": "stream",
     "text": [
      "here2\n",
      "cpu\n"
     ]
    },
    {
     "name": "stderr",
     "output_type": "stream",
     "text": [
      "Loss is 2.04: 100%|██████████████████████████████████████████████████████████████████████████| 10/10 [01:24<00:00,  8.43s/it]\n"
     ]
    }
   ],
   "source": [
    "model = train_piCVAE()"
   ]
  },
  {
   "cell_type": "code",
   "execution_count": 13,
   "id": "0942a3c0",
   "metadata": {},
   "outputs": [
    {
     "data": {
      "text/plain": [
       "PHI(\n",
       "  (linear1): Linear(in_features=500, out_features=20, bias=True)\n",
       "  (linear2): Linear(in_features=20, out_features=20, bias=True)\n",
       "  (out): Linear(in_features=20, out_features=10, bias=True)\n",
       ")"
      ]
     },
     "execution_count": 13,
     "metadata": {},
     "output_type": "execute_result"
    }
   ],
   "source": [
    "# phi = PHI(1, alpha=1.0, n_centers=1000, hidden_dim1=20, hidden_dim2=20, out_dims=10)\n",
    "phi = model.phi\n",
    "phi.eval()"
   ]
  },
  {
   "cell_type": "code",
   "execution_count": 14,
   "id": "310f0455",
   "metadata": {},
   "outputs": [],
   "source": [
    "# vae = VAE(input_dim=10, hidden_dim1=16, hidden_dim2=8, latent_dim=5)\n",
    "vae = model.vae\n",
    "vae_decoder = vae.decoder"
   ]
  },
  {
   "cell_type": "code",
   "execution_count": 15,
   "id": "8352ec15",
   "metadata": {},
   "outputs": [
    {
     "data": {
      "text/plain": [
       "Text(0, 0.5, '$y=f(x)$')"
      ]
     },
     "execution_count": 15,
     "metadata": {},
     "output_type": "execute_result"
    },
    {
     "data": {
      "image/png": "[encoded data removed]",
      "text/plain": [
       "<Figure size 640x480 with 1 Axes>"
      ]
     },
     "metadata": {},
     "output_type": "display_data"
    }
   ],
   "source": [
    "# sampling points to evaluate functions values\n",
    "x_inf = np.linspace(-10,10,60).reshape(-1,1)\n",
    "e_n = 9 * np.random.randn(60).reshape(-1,1)\n",
    "y_ = np.power(x_inf,3) \n",
    "y_inf = np.power(x_inf,3) + e_n\n",
    "idx = (x_inf>=-2) * (x_inf<=2)\n",
    "ll_idx = np.where(idx)\n",
    "fig = plt.figure()\n",
    "ax = fig.add_subplot(111)\n",
    "ax.plot(x_inf, y_, color='blue', alpha=0.5)\n",
    "ax.scatter(x_inf[ll_idx], y_inf[ll_idx], marker='+', color='red', alpha=0.5, s=100)\n",
    "ax.set_xlabel('$x$')\n",
    "ax.set_ylabel('$y=f(x)$')"
   ]
  },
  {
   "cell_type": "code",
   "execution_count": 17,
   "id": "3d82c239",
   "metadata": {},
   "outputs": [
    {
     "name": "stderr",
     "output_type": "stream",
     "text": [
      "/tmp/ipykernel_1633555/1524547007.py:6: UserWarning: The use of `x.T` on tensors of dimension other than 2 to reverse their shape is deprecated and it will throw an error in a future release. Consider `x.mT` to transpose batches of matrices or `x.permute(*torch.arange(x.ndim - 1, -1, -1))` to reverse the dimensions of a tensor. (Triggered internally at /home/conda/feedstock_root/build_artifacts/pytorch-recipe_1670076240548/work/aten/src/ATen/native/TensorShape.cpp:3277.)\n",
      "  'B1': vae_decoder.linear1.bias.T.detach().numpy(),\n"
     ]
    }
   ],
   "source": [
    "stan_data = {'p': 5, \n",
    "                 'p1': 16,\n",
    "                 'p2': 8,\n",
    "                 'n': 60,\n",
    "                 'W1': vae_decoder.linear1.weight.T.detach().numpy(),\n",
    "                 'B1': vae_decoder.linear1.bias.T.detach().numpy(),\n",
    "                 'W2': vae_decoder.linear2.weight.T.detach().numpy(),\n",
    "                 'B2': vae_decoder.linear2.bias.T.detach().numpy(),\n",
    "                 'W3': vae_decoder.out.weight.T.detach().numpy(),\n",
    "                 'B3': vae_decoder.out.bias.T.detach().numpy(),\n",
    "                 'beta_dim' : 10,\n",
    "                 'phi_x' : phi(torch.tensor(x_inf).float()).detach().numpy(),\n",
    "                 'y': y_inf.reshape(60,),\n",
    "                 'll_len' : ll_idx[0].shape[0],\n",
    "                 'll_idxs' : ll_idx[0]}"
   ]
  },
  {
   "cell_type": "code",
   "execution_count": 19,
   "id": "6eebbc72",
   "metadata": {},
   "outputs": [
    {
     "name": "stderr",
     "output_type": "stream",
     "text": [
      "12:18:59 - cmdstanpy - INFO - compiling stan file /home/shug7409/projects/cpi-vae/notebooks/pivae.stan to exe file /home/shug7409/projects/cpi-vae/notebooks/pivae\n",
      "12:19:28 - cmdstanpy - INFO - compiled model executable: /home/shug7409/projects/cpi-vae/notebooks/pivae\n",
      "12:19:28 - cmdstanpy - WARNING - Stan compiler has produced 1 warnings:\n",
      "12:19:28 - cmdstanpy - WARNING - \n",
      "--- Translating Stan model to C++ code ---\n",
      "bin/stanc  --o=/home/shug7409/projects/cpi-vae/notebooks/pivae.hpp /home/shug7409/projects/cpi-vae/notebooks/pivae.stan\n",
      "Warning in '/home/shug7409/projects/cpi-vae/notebooks/pivae.stan', line 26, column 2: Declaration\n",
      "    of arrays by placing brackets after a variable name is deprecated and\n",
      "    will be removed in Stan 2.32.0. Instead use the array keyword before the\n",
      "    type. This can be changed automatically using the auto-format flag to\n",
      "    stanc\n",
      "\n",
      "--- Compiling, linking C++ code ---\n",
      "g++ -std=c++1y -pthread -D_REENTRANT -Wno-sign-compare -Wno-ignored-attributes      -I stan/lib/stan_math/lib/tbb_2020.3/include    -O3 -I src -I stan/src -I stan/lib/rapidjson_1.1.0/ -I lib/CLI11-1.9.1/ -I stan/lib/stan_math/ -I stan/lib/stan_math/lib/eigen_3.3.9 -I stan/lib/stan_math/lib/boost_1.78.0 -I stan/lib/stan_math/lib/sundials_6.1.1/include -I stan/lib/stan_math/lib/sundials_6.1.1/src/sundials    -DBOOST_DISABLE_ASSERTS          -c -Wno-ignored-attributes   -x c++ -o /home/shug7409/projects/cpi-vae/notebooks/pivae.o /home/shug7409/projects/cpi-vae/notebooks/pivae.hpp\n",
      "g++ -std=c++1y -pthread -D_REENTRANT -Wno-sign-compare -Wno-ignored-attributes      -I stan/lib/stan_math/lib/tbb_2020.3/include    -O3 -I src -I stan/src -I stan/lib/rapidjson_1.1.0/ -I lib/CLI11-1.9.1/ -I stan/lib/stan_math/ -I stan/lib/stan_math/lib/eigen_3.3.9 -I stan/lib/stan_math/lib/boost_1.78.0 -I stan/lib/stan_math/lib/sundials_6.1.1/include -I stan/lib/stan_math/lib/sundials_6.1.1/src/sundials    -DBOOST_DISABLE_ASSERTS                -Wl,-L,\"/home/shug7409/.cmdstan/cmdstan-2.31.0/stan/lib/stan_math/lib/tbb\" -Wl,-rpath,\"/home/shug7409/.cmdstan/cmdstan-2.31.0/stan/lib/stan_math/lib/tbb\"      /home/shug7409/projects/cpi-vae/notebooks/pivae.o src/cmdstan/main.o        -Wl,-L,\"/home/shug7409/.cmdstan/cmdstan-2.31.0/stan/lib/stan_math/lib/tbb\" -Wl,-rpath,\"/home/shug7409/.cmdstan/cmdstan-2.31.0/stan/lib/stan_math/lib/tbb\"   stan/lib/stan_math/lib/sundials_6.1.1/lib/libsundials_nvecserial.a stan/lib/stan_math/lib/sundials_6.1.1/lib/libsundials_cvodes.a stan/lib/stan_math/lib/sundials_6.1.1/lib/libsundials_idas.a stan/lib/stan_math/lib/sundials_6.1.1/lib/libsundials_kinsol.a  stan/lib/stan_math/lib/tbb/libtbb.so.2 -o /home/shug7409/projects/cpi-vae/notebooks/pivae\n",
      "rm -f /home/shug7409/projects/cpi-vae/notebooks/pivae.o\n",
      "\n"
     ]
    }
   ],
   "source": [
    "sm = cmdstanpy.CmdStanModel(stan_file='../notebooks/pivae.stan')"
   ]
  },
  {
   "cell_type": "code",
   "execution_count": 20,
   "id": "3df15837",
   "metadata": {},
   "outputs": [
    {
     "name": "stderr",
     "output_type": "stream",
     "text": [
      "12:19:48 - cmdstanpy - INFO - CmdStan start processing\n",
      "chain 1 |\u001b[33m                                                                                                      \u001b[0m| 00:00 Status\u001b[0m\n",
      "chain 2 |\u001b[33m                                                                                                      \u001b[0m| 00:00 Status\u001b[0m\u001b[A\n",
      "\n",
      "chain 3 |\u001b[33m                                                                                                      \u001b[0m| 00:00 Status\u001b[0m\u001b[A\u001b[A\n",
      "\n",
      "\n",
      "chain 4 |\u001b[33m                                                                                                      \u001b[0m| 00:00 Status\u001b[0m\u001b[A\u001b[A\u001b[A\n",
      "chain 2 |\u001b[33m███████████████▎                                                     \u001b[0m| 00:00 Iteration:  400 / 2500 [ 16%]  (Warmup)\u001b[0m\u001b[A\n",
      "\n",
      "chain 1 |\u001b[34m██████████████████████▎                                            \u001b[0m| 00:00 Iteration:  600 / 2500 [ 24%]  (Sampling)\u001b[0m\u001b[A\u001b[A\n",
      "\n",
      "\n",
      "chain 4 |\u001b[33m███▊                                                                                                  \u001b[0m| 00:00 Status\u001b[0m\u001b[A\u001b[A\u001b[A\n",
      "\n",
      "chain 3 |\u001b[34m███████████████████▊                                               \u001b[0m| 00:00 Iteration:  501 / 2500 [ 20%]  (Sampling)\u001b[0m\u001b[A\u001b[A\n",
      "\n",
      "\n",
      "chain 4 |\u001b[34m███████████████████▊                                               \u001b[0m| 00:00 Iteration:  501 / 2500 [ 20%]  (Sampling)\u001b[0m\u001b[A\u001b[A\u001b[A\n",
      "chain 1 |\u001b[34m██████████████████████████████████▋                                \u001b[0m| 00:00 Iteration: 1100 / 2500 [ 44%]  (Sampling)\u001b[0m\u001b[A\n",
      "\n",
      "chain 3 |\u001b[34m█████████████████████████████▊                                     \u001b[0m| 00:00 Iteration:  900 / 2500 [ 36%]  (Sampling)\u001b[0m\u001b[A\u001b[A\n",
      "\n",
      "\n",
      "chain 4 |\u001b[34m█████████████████████████████▊                                     \u001b[0m| 00:00 Iteration:  900 / 2500 [ 36%]  (Sampling)\u001b[0m\u001b[A\u001b[A\u001b[A\n",
      "chain 1 |\u001b[34m████████████████████████████████████████████▋                      \u001b[0m| 00:00 Iteration: 1500 / 2500 [ 60%]  (Sampling)\u001b[0m\u001b[A\n",
      "\n",
      "chain 3 |\u001b[34m█████████████████████████████████████▏                             \u001b[0m| 00:00 Iteration: 1200 / 2500 [ 48%]  (Sampling)\u001b[0m\u001b[A\u001b[A\n",
      "\n",
      "\n",
      "chain 1 |\u001b[34m████████████████████████████████████████████████████               \u001b[0m| 00:00 Iteration: 1800 / 2500 [ 72%]  (Sampling)\u001b[0m\u001b[A\u001b[A\u001b[A\n",
      "chain 2 |\u001b[34m█████████████████████████████████████████████████▋                 \u001b[0m| 00:00 Iteration: 1700 / 2500 [ 68%]  (Sampling)\u001b[0m\u001b[A\n",
      "\n",
      "chain 3 |\u001b[34m███████████████████████████████████████████████▏                   \u001b[0m| 00:00 Iteration: 1600 / 2500 [ 64%]  (Sampling)\u001b[0m\u001b[A\u001b[A\n",
      "\n",
      "\n",
      "chain 1 |\u001b[34m███████████████████████████████████████████████████████████▌       \u001b[0m| 00:00 Iteration: 2100 / 2500 [ 84%]  (Sampling)\u001b[0m\u001b[A\u001b[A\u001b[A\n",
      "chain 2 |\u001b[34m█████████████████████████████████████████████████████████          \u001b[0m| 00:00 Iteration: 2000 / 2500 [ 80%]  (Sampling)\u001b[0m\u001b[A\n",
      "\n",
      "chain 3 |\u001b[34m██████████████████████████████████████████████████████▌            \u001b[0m| 00:00 Iteration: 1900 / 2500 [ 76%]  (Sampling)\u001b[0m\u001b[A\u001b[A\n",
      "\n",
      "\n",
      "chain 1 |\u001b[34m███████████████████████████████████████████████████████████████████\u001b[0m| 00:01 Iteration: 2400 / 2500 [ 96%]  (Sampling)\u001b[0m\u001b[A\u001b[A\u001b[A\n",
      "chain 2 |\u001b[34m████████████████████████████████████████████████████████████████▌  \u001b[0m| 00:01 Iteration: 2300 / 2500 [ 92%]  (Sampling)\u001b[0m\u001b[A\n",
      "\n",
      "chain 3 |\u001b[34m██████████████████████████████████████████████████████████████     \u001b[0m| 00:01 Iteration: 2200 / 2500 [ 88%]  (Sampling)\u001b[0m\u001b[A\u001b[A\n",
      "\n",
      "\n",
      "chain 1 |\u001b[34m██████████████████████████████████████████████████████████████████████████████████████████\u001b[0m| 00:01 Sampling completed\u001b[0m\u001b[A\u001b[A\u001b[A\n",
      "chain 2 |\u001b[34m██████████████████████████████████████████████████████████████████████████████████████████\u001b[0m| 00:01 Sampling completed\u001b[0m\n",
      "chain 3 |\u001b[34m██████████████████████████████████████████████████████████████████████████████████████████\u001b[0m| 00:01 Sampling completed\u001b[0m\n",
      "chain 4 |\u001b[34m██████████████████████████████████████████████████████████████████████████████████████████\u001b[0m| 00:01 Sampling completed\u001b[0m"
     ]
    },
    {
     "name": "stdout",
     "output_type": "stream",
     "text": [
      "                                                                                                                                                                                                                                                                                                                                "
     ]
    },
    {
     "name": "stderr",
     "output_type": "stream",
     "text": [
      "\n",
      "12:19:49 - cmdstanpy - INFO - CmdStan done processing.\n",
      "12:19:49 - cmdstanpy - WARNING - Non-fatal error during sampling:\n",
      "Exception: normal_lpdf: Scale parameter is 0, but must be positive! (in '/home/shug7409/projects/cpi-vae/notebooks/pivae.stan', line 41, column 2 to column 45)\n",
      "Consider re-running with show_console=True if the above output is unclear!\n"
     ]
    },
    {
     "name": "stdout",
     "output_type": "stream",
     "text": [
      "\n"
     ]
    }
   ],
   "source": [
    "fit = sm.sample(data=stan_data, iter_sampling=2000, iter_warmup=500, chains=4)"
   ]
  },
  {
   "cell_type": "code",
   "execution_count": 21,
   "id": "875228fe",
   "metadata": {},
   "outputs": [],
   "source": [
    "out = fit.stan_variables()\n",
    "\n",
    "df = pd.DataFrame(out['y2'])"
   ]
  },
  {
   "cell_type": "code",
   "execution_count": 22,
   "id": "5e694491",
   "metadata": {},
   "outputs": [
    {
     "data": {
      "text/plain": [
       "<matplotlib.legend.Legend at 0x148eceda2410>"
      ]
     },
     "execution_count": 22,
     "metadata": {},
     "output_type": "execute_result"
    },
    {
     "data": {
      "image/png": "[encoded data removed]",
      "text/plain": [
       "<Figure size 640x480 with 1 Axes>"
      ]
     },
     "metadata": {},
     "output_type": "display_data"
    }
   ],
   "source": [
    "datapoints = x_inf\n",
    "fig = plt.figure()\n",
    "ax = fig.add_subplot(111)\n",
    "ax.plot(datapoints, y_, color='black', label='True')\n",
    "ax.scatter(datapoints[ll_idx], y_inf[ll_idx], s=46,label = 'Observations')\n",
    "ax.fill_between(datapoints.reshape(datapoints.shape[0]), df.quantile(0.025).to_numpy(), df.quantile(0.975).to_numpy(),\n",
    "                    facecolor=\"blue\",\n",
    "                    color='blue', \n",
    "                    alpha=0.2, label = '95% Credible Interval') \n",
    "ax.plot(datapoints, df.mean().to_numpy().reshape(-1,1), color='red', alpha=0.7, label = 'Posterior mean')\n",
    "ax.set_xlabel('$x$')\n",
    "ax.set_ylabel('$y=f(x)$')\n",
    "ax.set_title('Inference fit')\n",
    "ax.legend()"
   ]
  },
  {
   "cell_type": "code",
   "execution_count": null,
   "id": "0ee9da8b",
   "metadata": {},
   "outputs": [],
   "source": []
  }
 ],
 "metadata": {
  "kernelspec": {
   "display_name": "Python 3 (ipykernel)",
   "language": "python",
   "name": "python3"
  },
  "language_info": {
   "codemirror_mode": {
    "name": "ipython",
    "version": 3
   },
   "file_extension": ".py",
   "mimetype": "text/x-python",
   "name": "python",
   "nbconvert_exporter": "python",
   "pygments_lexer": "ipython3",
   "version": "3.11.0"
  }
 },
 "nbformat": 4,
 "nbformat_minor": 5
}
